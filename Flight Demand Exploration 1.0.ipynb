{
 "cells": [
  {
   "cell_type": "markdown",
   "metadata": {},
   "source": [
    "#### Import all useful libraries"
   ]
  },
  {
   "cell_type": "code",
   "execution_count": 1,
   "metadata": {},
   "outputs": [
    {
     "name": "stderr",
     "output_type": "stream",
     "text": [
      "/Users/zee/anaconda3/lib/python3.6/site-packages/matplotlib/font_manager.py:280: UserWarning: Matplotlib is building the font cache using fc-list. This may take a moment.\n",
      "  'Matplotlib is building the font cache using fc-list. '\n"
     ]
    }
   ],
   "source": [
    "import pandas as pd\n",
    "import matplotlib.pyplot as plt\n",
    "import seaborn as sns\n",
    "import numpy as np\n"
   ]
  },
  {
   "cell_type": "markdown",
   "metadata": {},
   "source": [
    "#### 1. Read from data file "
   ]
  },
  {
   "cell_type": "code",
   "execution_count": 5,
   "metadata": {},
   "outputs": [],
   "source": [
    "df = pd.read_csv('NY_FL_flight_demand.csv')"
   ]
  },
  {
   "cell_type": "markdown",
   "metadata": {},
   "source": [
    "#### 2. Data Summary"
   ]
  },
  {
   "cell_type": "code",
   "execution_count": 16,
   "metadata": {},
   "outputs": [
    {
     "name": "stdout",
     "output_type": "stream",
     "text": [
      "Column Names:['search_date', 'origin_airport_code', 'origin_city', 'origin_region', 'origin_country', 'dest_airport_code', 'destination_city', 'destination_region', 'destination_country', 'flight_demand'] \n",
      "Total Rows:694917 \n"
     ]
    }
   ],
   "source": [
    "\"\"\"\n",
    "Familiarizing with column names\n",
    "\"\"\"\n",
    "print('Column Names:{0} \\nTotal Rows:{1} '.format(list(df.columns),df.shape[0]))"
   ]
  },
  {
   "cell_type": "code",
   "execution_count": 17,
   "metadata": {},
   "outputs": [
    {
     "name": "stdout",
     "output_type": "stream",
     "text": [
      "Start Date: 2016-03-01 \n",
      "End Date: 2018-03-31\n"
     ]
    }
   ],
   "source": [
    "\"\"\"\n",
    "Find out time duration of data collection\n",
    "\"\"\"\n",
    "print('Start Date: {0} \\nEnd Date: {1}'.format(df['search_date'].min(),df['search_date'].max()))"
   ]
  },
  {
   "cell_type": "code",
   "execution_count": 18,
   "metadata": {},
   "outputs": [
    {
     "data": {
      "text/html": [
       "<div>\n",
       "<style>\n",
       "    .dataframe thead tr:only-child th {\n",
       "        text-align: right;\n",
       "    }\n",
       "\n",
       "    .dataframe thead th {\n",
       "        text-align: left;\n",
       "    }\n",
       "\n",
       "    .dataframe tbody tr th {\n",
       "        vertical-align: top;\n",
       "    }\n",
       "</style>\n",
       "<table border=\"1\" class=\"dataframe\">\n",
       "  <thead>\n",
       "    <tr style=\"text-align: right;\">\n",
       "      <th></th>\n",
       "      <th>search_date</th>\n",
       "      <th>origin_airport_code</th>\n",
       "      <th>origin_city</th>\n",
       "      <th>origin_region</th>\n",
       "      <th>origin_country</th>\n",
       "      <th>dest_airport_code</th>\n",
       "      <th>destination_city</th>\n",
       "      <th>destination_region</th>\n",
       "      <th>destination_country</th>\n",
       "      <th>flight_demand</th>\n",
       "    </tr>\n",
       "  </thead>\n",
       "  <tbody>\n",
       "    <tr>\n",
       "      <th>0</th>\n",
       "      <td>2016-06-05</td>\n",
       "      <td>ECP</td>\n",
       "      <td>Panama City</td>\n",
       "      <td>FL</td>\n",
       "      <td>US</td>\n",
       "      <td>DEN</td>\n",
       "      <td>Denver</td>\n",
       "      <td>CO</td>\n",
       "      <td>US</td>\n",
       "      <td>135</td>\n",
       "    </tr>\n",
       "    <tr>\n",
       "      <th>1</th>\n",
       "      <td>2016-06-05</td>\n",
       "      <td>MIA</td>\n",
       "      <td>Miami</td>\n",
       "      <td>FL</td>\n",
       "      <td>US</td>\n",
       "      <td>BOS</td>\n",
       "      <td>Boston</td>\n",
       "      <td>MA</td>\n",
       "      <td>US</td>\n",
       "      <td>3909</td>\n",
       "    </tr>\n",
       "    <tr>\n",
       "      <th>2</th>\n",
       "      <td>2016-06-05</td>\n",
       "      <td>PGD</td>\n",
       "      <td>Punta Gorda</td>\n",
       "      <td>FL</td>\n",
       "      <td>US</td>\n",
       "      <td>JFK</td>\n",
       "      <td>New York</td>\n",
       "      <td>NY</td>\n",
       "      <td>US</td>\n",
       "      <td>15</td>\n",
       "    </tr>\n",
       "    <tr>\n",
       "      <th>3</th>\n",
       "      <td>2016-06-05</td>\n",
       "      <td>JAX</td>\n",
       "      <td>Jacksonville</td>\n",
       "      <td>FL</td>\n",
       "      <td>US</td>\n",
       "      <td>WAS</td>\n",
       "      <td>Washington</td>\n",
       "      <td>DC</td>\n",
       "      <td>US</td>\n",
       "      <td>943</td>\n",
       "    </tr>\n",
       "    <tr>\n",
       "      <th>4</th>\n",
       "      <td>2016-06-05</td>\n",
       "      <td>EYW</td>\n",
       "      <td>Key West</td>\n",
       "      <td>FL</td>\n",
       "      <td>US</td>\n",
       "      <td>CLT</td>\n",
       "      <td>Charlotte</td>\n",
       "      <td>NC</td>\n",
       "      <td>US</td>\n",
       "      <td>67</td>\n",
       "    </tr>\n",
       "  </tbody>\n",
       "</table>\n",
       "</div>"
      ],
      "text/plain": [
       "  search_date origin_airport_code   origin_city origin_region origin_country  \\\n",
       "0  2016-06-05                 ECP   Panama City            FL             US   \n",
       "1  2016-06-05                 MIA         Miami            FL             US   \n",
       "2  2016-06-05                 PGD   Punta Gorda            FL             US   \n",
       "3  2016-06-05                 JAX  Jacksonville            FL             US   \n",
       "4  2016-06-05                 EYW      Key West            FL             US   \n",
       "\n",
       "  dest_airport_code destination_city destination_region destination_country  \\\n",
       "0               DEN           Denver                 CO                  US   \n",
       "1               BOS           Boston                 MA                  US   \n",
       "2               JFK         New York                 NY                  US   \n",
       "3               WAS       Washington                 DC                  US   \n",
       "4               CLT        Charlotte                 NC                  US   \n",
       "\n",
       "   flight_demand  \n",
       "0            135  \n",
       "1           3909  \n",
       "2             15  \n",
       "3            943  \n",
       "4             67  "
      ]
     },
     "execution_count": 18,
     "metadata": {},
     "output_type": "execute_result"
    }
   ],
   "source": [
    "\"\"\"\n",
    "Lets take a peek \n",
    "\"\"\"\n",
    "df.head()"
   ]
  },
  {
   "cell_type": "code",
   "execution_count": 24,
   "metadata": {},
   "outputs": [
    {
     "name": "stdout",
     "output_type": "stream",
     "text": [
      "Default dtype:  <class 'str'>\n",
      "Modified dtype:  <class 'pandas._libs.tslib.Timestamp'>\n"
     ]
    }
   ],
   "source": [
    "\"\"\"\n",
    "Pandas has parsed 'search_date' column as string not datetime, lets remedy that\n",
    "\"\"\"\n",
    "print(\"Default dtype: \",type(df['search_date'][0]))\n",
    "print(\"Modified dtype: \",type(pd.to_datetime(df['search_date'][0])))\n",
    "\n"
   ]
  },
  {
   "cell_type": "code",
   "execution_count": 30,
   "metadata": {},
   "outputs": [
    {
     "name": "stdout",
     "output_type": "stream",
     "text": [
      "Start Date: 2016-03-01 00:00:00 \n",
      "End Date: 2018-03-31 00:00:00\n"
     ]
    }
   ],
   "source": [
    "\"\"\"\n",
    "Converting to datetime will be useful for further operations\n",
    "\"\"\"\n",
    "df['search_date'] = pd.to_datetime(df['search_date'])\n",
    "print(\"Start Date: {0} \\nEnd Date: {1}\".format(df['search_date'].min(),df['search_date'].max()))"
   ]
  },
  {
   "cell_type": "code",
   "execution_count": 48,
   "metadata": {},
   "outputs": [
    {
     "data": {
      "text/html": [
       "<div>\n",
       "<style>\n",
       "    .dataframe thead tr:only-child th {\n",
       "        text-align: right;\n",
       "    }\n",
       "\n",
       "    .dataframe thead th {\n",
       "        text-align: left;\n",
       "    }\n",
       "\n",
       "    .dataframe tbody tr th {\n",
       "        vertical-align: top;\n",
       "    }\n",
       "</style>\n",
       "<table border=\"1\" class=\"dataframe\">\n",
       "  <thead>\n",
       "    <tr style=\"text-align: right;\">\n",
       "      <th></th>\n",
       "      <th>origin_airport_code</th>\n",
       "      <th>origin_city</th>\n",
       "      <th>origin_region</th>\n",
       "      <th>origin_country</th>\n",
       "      <th>dest_airport_code</th>\n",
       "      <th>destination_city</th>\n",
       "      <th>destination_region</th>\n",
       "      <th>destination_country</th>\n",
       "    </tr>\n",
       "  </thead>\n",
       "  <tbody>\n",
       "    <tr>\n",
       "      <th>count</th>\n",
       "      <td>694917</td>\n",
       "      <td>694917</td>\n",
       "      <td>694917</td>\n",
       "      <td>694917</td>\n",
       "      <td>694917</td>\n",
       "      <td>694917</td>\n",
       "      <td>694917</td>\n",
       "      <td>694917</td>\n",
       "    </tr>\n",
       "    <tr>\n",
       "      <th>unique</th>\n",
       "      <td>135</td>\n",
       "      <td>97</td>\n",
       "      <td>2</td>\n",
       "      <td>1</td>\n",
       "      <td>36</td>\n",
       "      <td>31</td>\n",
       "      <td>22</td>\n",
       "      <td>1</td>\n",
       "    </tr>\n",
       "    <tr>\n",
       "      <th>top</th>\n",
       "      <td>MIA</td>\n",
       "      <td>New York</td>\n",
       "      <td>FL</td>\n",
       "      <td>US</td>\n",
       "      <td>BOS</td>\n",
       "      <td>Chicago</td>\n",
       "      <td>FL</td>\n",
       "      <td>US</td>\n",
       "    </tr>\n",
       "    <tr>\n",
       "      <th>freq</th>\n",
       "      <td>19000</td>\n",
       "      <td>57015</td>\n",
       "      <td>402509</td>\n",
       "      <td>694917</td>\n",
       "      <td>29942</td>\n",
       "      <td>55375</td>\n",
       "      <td>86357</td>\n",
       "      <td>694917</td>\n",
       "    </tr>\n",
       "  </tbody>\n",
       "</table>\n",
       "</div>"
      ],
      "text/plain": [
       "       origin_airport_code origin_city origin_region origin_country  \\\n",
       "count               694917      694917        694917         694917   \n",
       "unique                 135          97             2              1   \n",
       "top                    MIA    New York            FL             US   \n",
       "freq                 19000       57015        402509         694917   \n",
       "\n",
       "       dest_airport_code destination_city destination_region  \\\n",
       "count             694917           694917             694917   \n",
       "unique                36               31                 22   \n",
       "top                  BOS          Chicago                 FL   \n",
       "freq               29942            55375              86357   \n",
       "\n",
       "       destination_country  \n",
       "count               694917  \n",
       "unique                   1  \n",
       "top                     US  \n",
       "freq                694917  "
      ]
     },
     "execution_count": 48,
     "metadata": {},
     "output_type": "execute_result"
    }
   ],
   "source": [
    "\"\"\"\n",
    "Lets analyze the entropy of each column \n",
    "Observations: \n",
    "1. All flights are domestic\n",
    "2. Some cities (likely large) have more than one airport\n",
    "\"\"\"\n",
    "\n",
    "df[df.columns[1:-1]].describe()"
   ]
  },
  {
   "cell_type": "markdown",
   "metadata": {},
   "source": [
    "### Question 1."
   ]
  },
  {
   "cell_type": "code",
   "execution_count": 53,
   "metadata": {},
   "outputs": [],
   "source": [
    "\"\"\"\n",
    "Quick operation to create some dated categorical variables\n",
    "\"\"\"\n",
    "df.set_index(df['search_date'], inplace=True)\n",
    "df['DayOfWeek'] = df.index.dayofweek\n",
    "df['Month'] = df.index.month\n",
    "df['Year'] = df.index.year\n",
    "df.reset_index(inplace=True,drop=True)"
   ]
  },
  {
   "cell_type": "code",
   "execution_count": 63,
   "metadata": {},
   "outputs": [
    {
     "data": {
      "image/png": "[encoded data removed]",
      "text/plain": [
       "<matplotlib.figure.Figure at 0x113099438>"
      ]
     },
     "metadata": {},
     "output_type": "display_data"
    }
   ],
   "source": [
    "sns.lmplot(data=df.groupby(['origin_region','Year','Month']).sum().reset_index(),\n",
    "           col='Year',row='origin_region',x='Month',y='flight_demand', fit_reg=False)\n",
    "plt.show()"
   ]
  },
  {
   "cell_type": "code",
   "execution_count": null,
   "metadata": {
    "collapsed": true
   },
   "outputs": [],
   "source": []
  }
 ],
 "metadata": {
  "kernelspec": {
   "display_name": "Python 3",
   "language": "python",
   "name": "python3"
  },
  "language_info": {
   "codemirror_mode": {
    "name": "ipython",
    "version": 3
   },
   "file_extension": ".py",
   "mimetype": "text/x-python",
   "name": "python",
   "nbconvert_exporter": "python",
   "pygments_lexer": "ipython3",
   "version": "3.6.1"
  }
 },
 "nbformat": 4,
 "nbformat_minor": 2
}
